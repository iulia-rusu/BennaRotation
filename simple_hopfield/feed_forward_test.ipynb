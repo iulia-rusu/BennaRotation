{
 "cells": [
  {
   "cell_type": "code",
   "execution_count": 1,
   "id": "0b944b78-225a-4849-8edd-b6cdb3cd6b3b",
   "metadata": {},
   "outputs": [
    {
     "name": "stdout",
     "output_type": "stream",
     "text": [
      "<bound method Kernel.raw_input of <ipykernel.ipkernel.IPythonKernel object at 0x106241340>>\n"
     ]
    }
   ],
   "source": [
    "import torch\n",
    "import numpy as np\n",
    "import matplotlib.pyplot as plt\n",
    "import simple_hopfield_model as shm\n",
    "from simple_hopfield_model import Hopfield\n",
    "from simple_hopfield_model import feedforward_matrix\n",
    "from sklearn.decomposition import PCA\n",
    "torch.manual_seed(1)\n",
    "\n",
    "%load_ext autoreload\n",
    "%autoreload 1\n"
   ]
  },
  {
   "cell_type": "code",
   "execution_count": 2,
   "id": "7d1d8b4b-80cb-4d69-91ed-3108f8519496",
   "metadata": {},
   "outputs": [],
   "source": [
    "# Code takes 10 vectors of 2 dimensions each, generates an expanded set of vectors of 1000 dimensions each\n",
    "n_neurons = 1000 #dimensions/ neurons in final result\n",
    "feature_input = 2 #dimensions\n",
    "n_input_vectors = 10 # amount of feature vectors"
   ]
  },
  {
   "cell_type": "code",
   "execution_count": 3,
   "id": "8174b75d-2d5a-478d-a975-8cba1d796a79",
   "metadata": {},
   "outputs": [],
   "source": [
    "#initialize feedforward matrix\n",
    "ff_matrix = feedforward_matrix(feature_input, n_neurons, n_input_vectors)\n",
    "\n"
   ]
  },
  {
   "cell_type": "code",
   "execution_count": 4,
   "id": "56182ff8-d0ac-49f4-a4b8-9cc87064d06d",
   "metadata": {},
   "outputs": [
    {
     "data": {
      "text/plain": [
       "torch.Size([1000, 10])"
      ]
     },
     "execution_count": 4,
     "metadata": {},
     "output_type": "execute_result"
    }
   ],
   "source": [
    "f = ff_matrix.generate_f(feature_input, n_input_vectors)\n",
    "f.shape\n"
   ]
  },
  {
   "cell_type": "code",
   "execution_count": 5,
   "id": "0bb88dd4",
   "metadata": {},
   "outputs": [
    {
     "data": {
      "text/plain": [
       "torch.Size([10, 2])"
      ]
     },
     "execution_count": 5,
     "metadata": {},
     "output_type": "execute_result"
    }
   ],
   "source": [
    "# initialize feedforward update weights\n",
    "weights = ff_matrix.update_weights(feature_input, n_neurons)\n",
    "weights.shape\n",
    "\n"
   ]
  },
  {
   "cell_type": "code",
   "execution_count": 6,
   "id": "460d9e3c",
   "metadata": {},
   "outputs": [
    {
     "data": {
      "text/plain": [
       "torch.Size([2, 1000])"
      ]
     },
     "execution_count": 6,
     "metadata": {},
     "output_type": "execute_result"
    }
   ],
   "source": [
    "#pass f through the updated feedforward matrix to get x\n",
    "X = ff_matrix.generate_x(f)\n",
    "X.shape\n"
   ]
  },
  {
   "cell_type": "code",
   "execution_count": 7,
   "id": "e9e69eb8",
   "metadata": {},
   "outputs": [],
   "source": [
    "#Generate stable states based on expanded vectors in X\n",
    "\n",
    "hopfield = Hopfield(n_neurons) # neurons\n",
    "hopfield.create_hopfield_matrix(X)\n",
    "\n"
   ]
  },
  {
   "cell_type": "code",
   "execution_count": 8,
   "id": "9ab2c5ef",
   "metadata": {},
   "outputs": [],
   "source": [
    "#Test the model using 'noisy input' tensor. Generated from smaller subspace of randn values that generated f. \n",
    "#Generate noisy f\n",
    "\n",
    "\n",
    "def generate_noisy_f(self, noise_std=0.1, perturb_ratio=0.5):\n",
    "        # Calculate the number of elements to perturb in each vector\n",
    "        num_elements_to_perturb = int(self.f * perturb_ratio)\n",
    "        print(num_elements_to_perturb)\n",
    "        # Generate indices to perturb for each vector\n",
    "        indices_to_perturb = torch.randint(0, self.feature_input, (num_elements_to_perturb,))\n",
    "        print(indices_to_perturb)\n",
    "        # Generate noise only for selected elements\n",
    "        selective_noise = torch.randn(num_elements_to_perturb, self.n_input_vectors) * noise_std\n",
    "        print(selective_noise)\n",
    "        # Copy f to retain the original elements where we won't add noise\n",
    "        noisy_f = f.clone()\n",
    "        print(noisy_f)\n",
    "        # Add noise only to selected indices\n",
    "        for i in range(self.n_input_vectors):\n",
    "            noisy_f[indices_to_perturb, i] += selective_noise[:, i]\n",
    "        \n",
    "            return noisy_f"
   ]
  },
  {
   "cell_type": "code",
   "execution_count": 9,
   "id": "01c84f44",
   "metadata": {},
   "outputs": [],
   "source": [
    "noisy_f = ff_matrix.noise(f, noise_std=0.1, percent_of_vector=0.5)\n"
   ]
  },
  {
   "cell_type": "code",
   "execution_count": 10,
   "id": "3567770c",
   "metadata": {},
   "outputs": [],
   "source": [
    "#Generate noisy x \n",
    "noisy_X = ff_matrix.generate_noisy_x(noisy_f)\n"
   ]
  },
  {
   "cell_type": "code",
   "execution_count": 11,
   "id": "772d82d6",
   "metadata": {},
   "outputs": [],
   "source": [
    "#Test model using noisy x "
   ]
  }
 ],
 "metadata": {
  "kernelspec": {
   "display_name": "Python 3 (ipykernel)",
   "language": "python",
   "name": "python3"
  },
  "language_info": {
   "codemirror_mode": {
    "name": "ipython",
    "version": 3
   },
   "file_extension": ".py",
   "mimetype": "text/x-python",
   "name": "python",
   "nbconvert_exporter": "python",
   "pygments_lexer": "ipython3",
   "version": "3.9.18"
  }
 },
 "nbformat": 4,
 "nbformat_minor": 5
}
