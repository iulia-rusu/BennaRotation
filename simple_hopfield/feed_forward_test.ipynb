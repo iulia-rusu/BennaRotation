{
 "cells": [
  {
   "cell_type": "code",
   "execution_count": 1,
   "id": "0b944b78-225a-4849-8edd-b6cdb3cd6b3b",
   "metadata": {},
   "outputs": [
    {
     "name": "stdout",
     "output_type": "stream",
     "text": [
      "<bound method Kernel.raw_input of <ipykernel.ipkernel.IPythonKernel object at 0x1073d2310>>\n"
     ]
    }
   ],
   "source": [
    "import torch\n",
    "import numpy as np\n",
    "import matplotlib.pyplot as plt\n",
    "import simple_hopfield_model as shm\n",
    "from simple_hopfield_model import Hopfield\n",
    "from simple_hopfield_model import feedforward_matrix\n",
    "from sklearn.decomposition import PCA\n",
    "torch.manual_seed(1)\n",
    "\n",
    "%load_ext autoreload\n",
    "%autoreload 1\n"
   ]
  },
  {
   "cell_type": "code",
   "execution_count": 2,
   "id": "7d1d8b4b-80cb-4d69-91ed-3108f8519496",
   "metadata": {},
   "outputs": [],
   "source": [
    "# Code takes 10 vectors of 2 dimensions each, generates an expanded set of vectors of 1000 dimensions each\n",
    "n_neurons = 1000 #dimensions/ neurons in final result\n",
    "feature_input = 2 #dimensions\n",
    "n_input_vectors = 10 # amount of feature vectors"
   ]
  },
  {
   "cell_type": "code",
   "execution_count": 3,
   "id": "8174b75d-2d5a-478d-a975-8cba1d796a79",
   "metadata": {},
   "outputs": [],
   "source": [
    "#initialize feedforward matrix\n",
    "ff_matrix = feedforward_matrix(feature_input, n_neurons, n_input_vectors)\n",
    "\n"
   ]
  },
  {
   "cell_type": "code",
   "execution_count": 4,
   "id": "56182ff8-d0ac-49f4-a4b8-9cc87064d06d",
   "metadata": {},
   "outputs": [
    {
     "data": {
      "text/plain": [
       "torch.Size([2, 10])"
      ]
     },
     "execution_count": 4,
     "metadata": {},
     "output_type": "execute_result"
    }
   ],
   "source": [
    "f = ff_matrix.generate_f(feature_input, n_input_vectors)\n",
    "f.shape\n"
   ]
  },
  {
   "cell_type": "code",
   "execution_count": 8,
   "id": "0bb88dd4",
   "metadata": {},
   "outputs": [],
   "source": [
    "# initialize feedforward update weights\n",
    "weights = ff_matrix.update_weights()\n",
    "weights.shape\n",
    "\n"
   ]
  },
  {
   "cell_type": "code",
   "execution_count": 6,
   "id": "460d9e3c",
   "metadata": {},
   "outputs": [
    {
     "data": {
      "text/plain": [
       "torch.Size([2, 2])"
      ]
     },
     "execution_count": 6,
     "metadata": {},
     "output_type": "execute_result"
    }
   ],
   "source": [
    "#pass f through the updated feedforward matrix to get x\n",
    "X = ff_matrix.generate_x(f)\n",
    "X.shape\n"
   ]
  },
  {
   "cell_type": "code",
   "execution_count": 7,
   "id": "e9e69eb8",
   "metadata": {},
   "outputs": [
    {
     "ename": "RuntimeError",
     "evalue": "The size of tensor a (1000) must match the size of tensor b (2) at non-singleton dimension 1",
     "output_type": "error",
     "traceback": [
      "\u001b[0;31m---------------------------------------------------------------------------\u001b[0m",
      "\u001b[0;31mRuntimeError\u001b[0m                              Traceback (most recent call last)",
      "Cell \u001b[0;32mIn[7], line 4\u001b[0m\n\u001b[1;32m      1\u001b[0m \u001b[38;5;66;03m#Generate stable states based on expanded vectors in X\u001b[39;00m\n\u001b[1;32m      3\u001b[0m hopfield \u001b[38;5;241m=\u001b[39m Hopfield(n_neurons) \u001b[38;5;66;03m# neurons\u001b[39;00m\n\u001b[0;32m----> 4\u001b[0m \u001b[43mhopfield\u001b[49m\u001b[38;5;241;43m.\u001b[39;49m\u001b[43mcreate_hopfield_matrix\u001b[49m\u001b[43m(\u001b[49m\u001b[43mX\u001b[49m\u001b[43m)\u001b[49m\n",
      "File \u001b[0;32m~/Documents/BennaRotation/simple_hopfield/simple_hopfield_model.py:109\u001b[0m, in \u001b[0;36mHopfield.create_hopfield_matrix\u001b[0;34m(self, X)\u001b[0m\n\u001b[1;32m    107\u001b[0m \u001b[38;5;28;01mfor\u001b[39;00m i, x \u001b[38;5;129;01min\u001b[39;00m \u001b[38;5;28menumerate\u001b[39m(X):\n\u001b[1;32m    108\u001b[0m     outer_product \u001b[38;5;241m=\u001b[39m x\u001b[38;5;241m.\u001b[39mview(\u001b[38;5;241m-\u001b[39m\u001b[38;5;241m1\u001b[39m, \u001b[38;5;241m1\u001b[39m) \u001b[38;5;241m@\u001b[39m x\u001b[38;5;241m.\u001b[39mview(\u001b[38;5;241m-\u001b[39m\u001b[38;5;241m1\u001b[39m, \u001b[38;5;241m1\u001b[39m)\u001b[38;5;241m.\u001b[39mT\n\u001b[0;32m--> 109\u001b[0m     sum_outer_products \u001b[38;5;241m+\u001b[39m\u001b[38;5;241m=\u001b[39m outer_product\n\u001b[1;32m    110\u001b[0m \u001b[38;5;28mself\u001b[39m\u001b[38;5;241m.\u001b[39mWeights \u001b[38;5;241m=\u001b[39m sum_outer_products \u001b[38;5;241m/\u001b[39m \u001b[38;5;28mself\u001b[39m\u001b[38;5;241m.\u001b[39mn_neurons\n\u001b[1;32m    111\u001b[0m \u001b[38;5;28mself\u001b[39m\u001b[38;5;241m.\u001b[39mWeights\u001b[38;5;241m.\u001b[39mfill_diagonal_(\u001b[38;5;241m0\u001b[39m)\n",
      "\u001b[0;31mRuntimeError\u001b[0m: The size of tensor a (1000) must match the size of tensor b (2) at non-singleton dimension 1"
     ]
    }
   ],
   "source": [
    "#Generate stable states based on expanded vectors in X\n",
    "\n",
    "hopfield = Hopfield(n_neurons) # neurons\n",
    "hopfield.create_hopfield_matrix(X)\n",
    "\n"
   ]
  },
  {
   "cell_type": "code",
   "execution_count": null,
   "id": "9ab2c5ef",
   "metadata": {},
   "outputs": [],
   "source": [
    "#Test the model using 'noisy input' tensor. Generated from smaller subspace of randn values that generated f. \n",
    "#Generate noisy f\n",
    "\n",
    "\n",
    "def generate_noisy_f(self, noise_std=0.1, perturb_ratio=0.5):\n",
    "        # Calculate the number of elements to perturb in each vector\n",
    "        num_elements_to_perturb = int(self.f * perturb_ratio)\n",
    "        print(num_elements_to_perturb)\n",
    "        # Generate indices to perturb for each vector\n",
    "        indices_to_perturb = torch.randint(0, self.feature_input, (num_elements_to_perturb,))\n",
    "        print(indices_to_perturb)\n",
    "        # Generate noise only for selected elements\n",
    "        selective_noise = torch.randn(num_elements_to_perturb, self.n_input_vectors) * noise_std\n",
    "        print(selective_noise)\n",
    "        # Copy f to retain the original elements where we won't add noise\n",
    "        noisy_f = f.clone()\n",
    "        print(noisy_f)\n",
    "        # Add noise only to selected indices\n",
    "        for i in range(self.n_input_vectors):\n",
    "            noisy_f[indices_to_perturb, i] += selective_noise[:, i]\n",
    "        \n",
    "            return noisy_f"
   ]
  },
  {
   "cell_type": "code",
   "execution_count": null,
   "id": "01c84f44",
   "metadata": {},
   "outputs": [
    {
     "ename": "KeyboardInterrupt",
     "evalue": "",
     "output_type": "error",
     "traceback": [
      "\u001b[0;31m---------------------------------------------------------------------------\u001b[0m",
      "\u001b[0;31mKeyboardInterrupt\u001b[0m                         Traceback (most recent call last)",
      "Cell \u001b[0;32mIn[13], line 1\u001b[0m\n\u001b[0;32m----> 1\u001b[0m noisy_f \u001b[38;5;241m=\u001b[39m \u001b[43mff_matrix\u001b[49m\u001b[38;5;241;43m.\u001b[39;49m\u001b[43mnoise\u001b[49m\u001b[43m(\u001b[49m\u001b[43mf\u001b[49m\u001b[43m,\u001b[49m\u001b[43m \u001b[49m\u001b[43mnoise_std\u001b[49m\u001b[38;5;241;43m=\u001b[39;49m\u001b[38;5;241;43m0.1\u001b[39;49m\u001b[43m,\u001b[49m\u001b[43m \u001b[49m\u001b[43mpercent_of_vector\u001b[49m\u001b[38;5;241;43m=\u001b[39;49m\u001b[38;5;241;43m0.5\u001b[39;49m\u001b[43m)\u001b[49m\n",
      "File \u001b[0;32m~/Documents/BennaRotation/simple_hopfield/simple_hopfield_model.py:50\u001b[0m, in \u001b[0;36mfeedforward_matrix.noise\u001b[0;34m(self, f, noise_std, percent_of_vector)\u001b[0m\n\u001b[1;32m     48\u001b[0m     idx_id \u001b[38;5;241m=\u001b[39m torch\u001b[38;5;241m.\u001b[39mrandint(\u001b[38;5;241m0\u001b[39m, \u001b[38;5;28mself\u001b[39m\u001b[38;5;241m.\u001b[39mfeature_input, (n_indexes,))\n\u001b[1;32m     49\u001b[0m \u001b[38;5;66;03m# Generate noise only for selected elements\u001b[39;00m\n\u001b[0;32m---> 50\u001b[0m     selective_noise \u001b[38;5;241m=\u001b[39m \u001b[43mtorch\u001b[49m\u001b[38;5;241m.\u001b[39mrandn(n_indexes, \u001b[38;5;28mself\u001b[39m\u001b[38;5;241m.\u001b[39mn_input_vectors) \u001b[38;5;241m*\u001b[39m noise_std\n\u001b[1;32m     51\u001b[0m \u001b[38;5;66;03m#copy f and only apply noise to the copy    \u001b[39;00m\n\u001b[1;32m     52\u001b[0m     noisy_f \u001b[38;5;241m=\u001b[39m f\u001b[38;5;241m.\u001b[39mclone()\n",
      "File \u001b[0;32m~/Documents/BennaRotation/simple_hopfield/simple_hopfield_model.py:50\u001b[0m, in \u001b[0;36mfeedforward_matrix.noise\u001b[0;34m(self, f, noise_std, percent_of_vector)\u001b[0m\n\u001b[1;32m     48\u001b[0m     idx_id \u001b[38;5;241m=\u001b[39m torch\u001b[38;5;241m.\u001b[39mrandint(\u001b[38;5;241m0\u001b[39m, \u001b[38;5;28mself\u001b[39m\u001b[38;5;241m.\u001b[39mfeature_input, (n_indexes,))\n\u001b[1;32m     49\u001b[0m \u001b[38;5;66;03m# Generate noise only for selected elements\u001b[39;00m\n\u001b[0;32m---> 50\u001b[0m     selective_noise \u001b[38;5;241m=\u001b[39m \u001b[43mtorch\u001b[49m\u001b[38;5;241m.\u001b[39mrandn(n_indexes, \u001b[38;5;28mself\u001b[39m\u001b[38;5;241m.\u001b[39mn_input_vectors) \u001b[38;5;241m*\u001b[39m noise_std\n\u001b[1;32m     51\u001b[0m \u001b[38;5;66;03m#copy f and only apply noise to the copy    \u001b[39;00m\n\u001b[1;32m     52\u001b[0m     noisy_f \u001b[38;5;241m=\u001b[39m f\u001b[38;5;241m.\u001b[39mclone()\n",
      "File \u001b[0;32m~/miniconda3/envs/my_kerneltron_env/lib/python3.9/site-packages/debugpy/_vendored/pydevd/_pydevd_bundle/pydevd_frame.py:988\u001b[0m, in \u001b[0;36mPyDBFrame.trace_dispatch\u001b[0;34m(self, frame, event, arg)\u001b[0m\n\u001b[1;32m    986\u001b[0m \u001b[38;5;66;03m# if thread has a suspend flag, we suspend with a busy wait\u001b[39;00m\n\u001b[1;32m    987\u001b[0m \u001b[38;5;28;01mif\u001b[39;00m info\u001b[38;5;241m.\u001b[39mpydev_state \u001b[38;5;241m==\u001b[39m STATE_SUSPEND:\n\u001b[0;32m--> 988\u001b[0m     \u001b[38;5;28;43mself\u001b[39;49m\u001b[38;5;241;43m.\u001b[39;49m\u001b[43mdo_wait_suspend\u001b[49m\u001b[43m(\u001b[49m\u001b[43mthread\u001b[49m\u001b[43m,\u001b[49m\u001b[43m \u001b[49m\u001b[43mframe\u001b[49m\u001b[43m,\u001b[49m\u001b[43m \u001b[49m\u001b[43mevent\u001b[49m\u001b[43m,\u001b[49m\u001b[43m \u001b[49m\u001b[43marg\u001b[49m\u001b[43m)\u001b[49m\n\u001b[1;32m    989\u001b[0m     \u001b[38;5;28;01mreturn\u001b[39;00m \u001b[38;5;28mself\u001b[39m\u001b[38;5;241m.\u001b[39mtrace_dispatch\n\u001b[1;32m    990\u001b[0m \u001b[38;5;28;01melse\u001b[39;00m:\n",
      "File \u001b[0;32m~/miniconda3/envs/my_kerneltron_env/lib/python3.9/site-packages/debugpy/_vendored/pydevd/_pydevd_bundle/pydevd_frame.py:165\u001b[0m, in \u001b[0;36mPyDBFrame.do_wait_suspend\u001b[0;34m(self, *args, **kwargs)\u001b[0m\n\u001b[1;32m    164\u001b[0m \u001b[38;5;28;01mdef\u001b[39;00m \u001b[38;5;21mdo_wait_suspend\u001b[39m(\u001b[38;5;28mself\u001b[39m, \u001b[38;5;241m*\u001b[39margs, \u001b[38;5;241m*\u001b[39m\u001b[38;5;241m*\u001b[39mkwargs):\n\u001b[0;32m--> 165\u001b[0m     \u001b[38;5;28;43mself\u001b[39;49m\u001b[38;5;241;43m.\u001b[39;49m\u001b[43m_args\u001b[49m\u001b[43m[\u001b[49m\u001b[38;5;241;43m0\u001b[39;49m\u001b[43m]\u001b[49m\u001b[38;5;241;43m.\u001b[39;49m\u001b[43mdo_wait_suspend\u001b[49m\u001b[43m(\u001b[49m\u001b[38;5;241;43m*\u001b[39;49m\u001b[43margs\u001b[49m\u001b[43m,\u001b[49m\u001b[43m \u001b[49m\u001b[38;5;241;43m*\u001b[39;49m\u001b[38;5;241;43m*\u001b[39;49m\u001b[43mkwargs\u001b[49m\u001b[43m)\u001b[49m\n",
      "File \u001b[0;32m~/miniconda3/envs/my_kerneltron_env/lib/python3.9/site-packages/debugpy/_vendored/pydevd/pydevd.py:2070\u001b[0m, in \u001b[0;36mPyDB.do_wait_suspend\u001b[0;34m(self, thread, frame, event, arg, exception_type)\u001b[0m\n\u001b[1;32m   2067\u001b[0m             from_this_thread\u001b[38;5;241m.\u001b[39mappend(frame_custom_thread_id)\n\u001b[1;32m   2069\u001b[0m     \u001b[38;5;28;01mwith\u001b[39;00m \u001b[38;5;28mself\u001b[39m\u001b[38;5;241m.\u001b[39m_threads_suspended_single_notification\u001b[38;5;241m.\u001b[39mnotify_thread_suspended(thread_id, thread, stop_reason):\n\u001b[0;32m-> 2070\u001b[0m         keep_suspended \u001b[38;5;241m=\u001b[39m \u001b[38;5;28;43mself\u001b[39;49m\u001b[38;5;241;43m.\u001b[39;49m\u001b[43m_do_wait_suspend\u001b[49m\u001b[43m(\u001b[49m\u001b[43mthread\u001b[49m\u001b[43m,\u001b[49m\u001b[43m \u001b[49m\u001b[43mframe\u001b[49m\u001b[43m,\u001b[49m\u001b[43m \u001b[49m\u001b[43mevent\u001b[49m\u001b[43m,\u001b[49m\u001b[43m \u001b[49m\u001b[43marg\u001b[49m\u001b[43m,\u001b[49m\u001b[43m \u001b[49m\u001b[43msuspend_type\u001b[49m\u001b[43m,\u001b[49m\u001b[43m \u001b[49m\u001b[43mfrom_this_thread\u001b[49m\u001b[43m,\u001b[49m\u001b[43m \u001b[49m\u001b[43mframes_tracker\u001b[49m\u001b[43m)\u001b[49m\n\u001b[1;32m   2072\u001b[0m frames_list \u001b[38;5;241m=\u001b[39m \u001b[38;5;28;01mNone\u001b[39;00m\n\u001b[1;32m   2074\u001b[0m \u001b[38;5;28;01mif\u001b[39;00m keep_suspended:\n\u001b[1;32m   2075\u001b[0m     \u001b[38;5;66;03m# This means that we should pause again after a set next statement.\u001b[39;00m\n",
      "File \u001b[0;32m~/miniconda3/envs/my_kerneltron_env/lib/python3.9/site-packages/debugpy/_vendored/pydevd/pydevd.py:2106\u001b[0m, in \u001b[0;36mPyDB._do_wait_suspend\u001b[0;34m(self, thread, frame, event, arg, suspend_type, from_this_thread, frames_tracker)\u001b[0m\n\u001b[1;32m   2103\u001b[0m         \u001b[38;5;28mself\u001b[39m\u001b[38;5;241m.\u001b[39m_call_input_hook()\n\u001b[1;32m   2105\u001b[0m     \u001b[38;5;28mself\u001b[39m\u001b[38;5;241m.\u001b[39mprocess_internal_commands()\n\u001b[0;32m-> 2106\u001b[0m     \u001b[43mtime\u001b[49m\u001b[38;5;241;43m.\u001b[39;49m\u001b[43msleep\u001b[49m\u001b[43m(\u001b[49m\u001b[38;5;241;43m0.01\u001b[39;49m\u001b[43m)\u001b[49m\n\u001b[1;32m   2108\u001b[0m \u001b[38;5;28mself\u001b[39m\u001b[38;5;241m.\u001b[39mcancel_async_evaluation(get_current_thread_id(thread), \u001b[38;5;28mstr\u001b[39m(\u001b[38;5;28mid\u001b[39m(frame)))\n\u001b[1;32m   2110\u001b[0m \u001b[38;5;66;03m# process any stepping instructions\u001b[39;00m\n",
      "\u001b[0;31mKeyboardInterrupt\u001b[0m: "
     ]
    }
   ],
   "source": [
    "noisy_f = ff_matrix.noise(f, noise_std=0.1, percent_of_vector=0.5)\n"
   ]
  },
  {
   "cell_type": "code",
   "execution_count": null,
   "id": "3567770c",
   "metadata": {},
   "outputs": [],
   "source": [
    "#Generate noisy x \n",
    "noisy_X = ff_matrix.generate_noisy_x(noisy_f)\n"
   ]
  },
  {
   "cell_type": "code",
   "execution_count": null,
   "id": "772d82d6",
   "metadata": {},
   "outputs": [],
   "source": [
    "#Test model using noisy x "
   ]
  }
 ],
 "metadata": {
  "kernelspec": {
   "display_name": "Python 3 (ipykernel)",
   "language": "python",
   "name": "python3"
  },
  "language_info": {
   "codemirror_mode": {
    "name": "ipython",
    "version": 3
   },
   "file_extension": ".py",
   "mimetype": "text/x-python",
   "name": "python",
   "nbconvert_exporter": "python",
   "pygments_lexer": "ipython3",
   "version": "3.9.18"
  }
 },
 "nbformat": 4,
 "nbformat_minor": 5
}
