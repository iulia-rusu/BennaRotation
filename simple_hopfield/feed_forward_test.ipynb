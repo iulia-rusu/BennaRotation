{
 "cells": [
  {
   "cell_type": "code",
   "execution_count": 1,
   "id": "0b944b78-225a-4849-8edd-b6cdb3cd6b3b",
   "metadata": {},
   "outputs": [
    {
     "name": "stderr",
     "output_type": "stream",
     "text": [
      "/Users/iuliarusu/Library/Caches/pypoetry/virtualenvs/kp-benchmark-7Zl9iL4b-py3.9/lib/python3.9/site-packages/tqdm/auto.py:21: TqdmWarning: IProgress not found. Please update jupyter and ipywidgets. See https://ipywidgets.readthedocs.io/en/stable/user_install.html\n",
      "  from .autonotebook import tqdm as notebook_tqdm\n"
     ]
    },
    {
     "name": "stdout",
     "output_type": "stream",
     "text": [
      "<bound method Kernel.raw_input of <ipykernel.ipkernel.IPythonKernel object at 0x110ca1040>>\n"
     ]
    },
    {
     "data": {
      "text/plain": [
       "<torch._C.Generator at 0x1127336f0>"
      ]
     },
     "execution_count": 1,
     "metadata": {},
     "output_type": "execute_result"
    }
   ],
   "source": [
    "import torch\n",
    "import numpy as np\n",
    "import matplotlib.pyplot as plt\n",
    "import simple_hopfield_model as shm\n",
    "from simple_hopfield_model import Hopfield\n",
    "from simple_hopfield_model import feedforward_matrix\n",
    "from sklearn.decomposition import PCA\n",
    "torch.manual_seed(1)"
   ]
  },
  {
   "cell_type": "code",
   "execution_count": null,
   "id": "ac028438-503a-489f-a643-ee3af9045b33",
   "metadata": {},
   "outputs": [],
   "source": [
    "\n"
   ]
  },
  {
   "cell_type": "code",
   "execution_count": 2,
   "id": "7d1d8b4b-80cb-4d69-91ed-3108f8519496",
   "metadata": {},
   "outputs": [],
   "source": [
    "# Code takes 10 vectors of 2 dimensions each, generates an expanded set of vectors of 1000 dimensions each\n",
    "n_neurons = 1000 #dimensions/ neurons in final result\n",
    "feature_input = 2 #dimensions\n",
    "n_input_vectors = 10 # amount of feature vectors"
   ]
  },
  {
   "cell_type": "code",
   "execution_count": 3,
   "id": "8174b75d-2d5a-478d-a975-8cba1d796a79",
   "metadata": {},
   "outputs": [],
   "source": [
    "#initialize feedforward matrix\n",
    "ff_matrix = feedforward_matrix(feature_input, n_neurons)\n",
    "\n"
   ]
  },
  {
   "cell_type": "code",
   "execution_count": 4,
   "id": "56182ff8-d0ac-49f4-a4b8-9cc87064d06d",
   "metadata": {},
   "outputs": [
    {
     "data": {
      "text/plain": [
       "torch.Size([1000, 10])"
      ]
     },
     "execution_count": 4,
     "metadata": {},
     "output_type": "execute_result"
    }
   ],
   "source": [
    "f = ff_matrix.generate_f(n_input_vectors)\n",
    "f.shape\n"
   ]
  },
  {
   "cell_type": "code",
   "execution_count": 5,
   "id": "0bb88dd4",
   "metadata": {},
   "outputs": [
    {
     "data": {
      "text/plain": [
       "torch.Size([1000, 2])"
      ]
     },
     "execution_count": 5,
     "metadata": {},
     "output_type": "execute_result"
    }
   ],
   "source": [
    "# initialize feedforward update weights\n",
    "weights = ff_matrix.update_weights(feature_input, n_neurons)\n",
    "weights.shape\n",
    "\n"
   ]
  },
  {
   "cell_type": "code",
   "execution_count": 84,
   "id": "460d9e3c",
   "metadata": {},
   "outputs": [
    {
     "ename": "RuntimeError",
     "evalue": "mat1 and mat2 shapes cannot be multiplied (5x2 and 10x2)",
     "output_type": "error",
     "traceback": [
      "\u001b[0;31m---------------------------------------------------------------------------\u001b[0m",
      "\u001b[0;31mRuntimeError\u001b[0m                              Traceback (most recent call last)",
      "Cell \u001b[0;32mIn[84], line 2\u001b[0m\n\u001b[1;32m      1\u001b[0m \u001b[38;5;66;03m#pass f through the updated feedforward matrix to get x\u001b[39;00m\n\u001b[0;32m----> 2\u001b[0m \u001b[43mff_matrix\u001b[49m\u001b[38;5;241;43m.\u001b[39;49m\u001b[43mgenerate_x\u001b[49m\u001b[43m(\u001b[49m\u001b[43mf\u001b[49m\u001b[43m)\u001b[49m\n",
      "File \u001b[0;32m~/Documents/Benna_rotation/simple_hopfield/simple_hopfield_model.py:67\u001b[0m, in \u001b[0;36mfeedforward_matrix.generate_x\u001b[0;34m(self, f)\u001b[0m\n\u001b[1;32m     66\u001b[0m \u001b[38;5;28;01mdef\u001b[39;00m \u001b[38;5;21mgenerate_x\u001b[39m(\u001b[38;5;28mself\u001b[39m, f):\n\u001b[0;32m---> 67\u001b[0m     \u001b[38;5;28;01mreturn\u001b[39;00m torch\u001b[38;5;241m.\u001b[39msign(\u001b[38;5;28;43mself\u001b[39;49m\u001b[38;5;241;43m.\u001b[39;49m\u001b[43mWeights\u001b[49m\u001b[43m \u001b[49m\u001b[38;5;241;43m@\u001b[39;49m\u001b[43m \u001b[49m\u001b[43mf\u001b[49m)\n",
      "\u001b[0;31mRuntimeError\u001b[0m: mat1 and mat2 shapes cannot be multiplied (5x2 and 10x2)"
     ]
    }
   ],
   "source": [
    "#pass f through the updated feedforward matrix to get x\n",
    "ff_matrix.generate_x(f)\n"
   ]
  }
 ],
 "metadata": {
  "kernelspec": {
   "display_name": "Python 3 (ipykernel)",
   "language": "python",
   "name": "python3"
  },
  "language_info": {
   "codemirror_mode": {
    "name": "ipython",
    "version": 3
   },
   "file_extension": ".py",
   "mimetype": "text/x-python",
   "name": "python",
   "nbconvert_exporter": "python",
   "pygments_lexer": "ipython3",
   "version": "3.9.6"
  }
 },
 "nbformat": 4,
 "nbformat_minor": 5
}
