{
 "cells": [
  {
   "cell_type": "code",
   "execution_count": 1,
   "id": "0b944b78-225a-4849-8edd-b6cdb3cd6b3b",
   "metadata": {},
   "outputs": [
    {
     "name": "stdout",
     "output_type": "stream",
     "text": [
      "<bound method Kernel.raw_input of <ipykernel.ipkernel.IPythonKernel object at 0x105a424c0>>\n"
     ]
    },
    {
     "data": {
      "text/plain": [
       "<torch._C.Generator at 0x105dbfed0>"
      ]
     },
     "execution_count": 1,
     "metadata": {},
     "output_type": "execute_result"
    }
   ],
   "source": [
    "import torch\n",
    "import numpy as np\n",
    "import matplotlib.pyplot as plt\n",
    "import simple_hopfield_model as shm\n",
    "from simple_hopfield_model import Hopfield\n",
    "from simple_hopfield_model import feedforward_matrix\n",
    "from sklearn.decomposition import PCA\n",
    "torch.manual_seed(1)"
   ]
  },
  {
   "cell_type": "code",
   "execution_count": null,
   "id": "ac028438-503a-489f-a643-ee3af9045b33",
   "metadata": {},
   "outputs": [],
   "source": [
    "\n",
    "class feedforward_matrix:\n",
    "    def __init__ (self, feature_input, n_neurons):\n",
    "        self.feature_input = feature_input\n",
    "        self.n_neurons = n_neurons\n",
    "        self.output_dim = n_neurons // feature_input # // is floor division, so returns integer\n",
    "        self.input_dim = feature_input\n",
    "        self.Weights = torch.zeros((self.output_dim, self.input_dim))\n",
    "        \n",
    "    \n",
    "    # Sets up continuous feedforward matrix\n",
    "    def update_weights(self, feature_input, n_neurons):\n",
    "        self.input_dim = feature_input\n",
    "        self.output_dim = n_neurons // feature_input  # Ensure integer result and consistency\n",
    "        self.Weights = torch.randn((self.output_dim, self.input_dim))\n",
    "        return self.Weights\n",
    "\n",
    "\n",
    "    #initialize f values from continuous Gaussian distribution\n",
    "    def generate_f(self, f):\n",
    "        return torch.randn(f, self.feature_input)\n",
    "    \n",
    "    #pass f through feedforward matrix to get x\n",
    "    def generate_x(self, f):\n",
    "        return torch.sign(self.Weights @ f)"
   ]
  },
  {
   "cell_type": "code",
   "execution_count": 2,
   "id": "7d1d8b4b-80cb-4d69-91ed-3108f8519496",
   "metadata": {},
   "outputs": [],
   "source": [
    "n_neurons = 10\n",
    "feature_input = 2"
   ]
  },
  {
   "cell_type": "code",
   "execution_count": 3,
   "id": "8174b75d-2d5a-478d-a975-8cba1d796a79",
   "metadata": {},
   "outputs": [],
   "source": [
    "#initialize feedforward matrix\n",
    "feedforward_matrix = feedforward_matrix(feature_input, n_neurons)"
   ]
  },
  {
   "cell_type": "code",
   "execution_count": null,
   "id": "56182ff8-d0ac-49f4-a4b8-9cc87064d06d",
   "metadata": {},
   "outputs": [],
   "source": [
    "#generate random f, "
   ]
  }
 ],
 "metadata": {
  "kernelspec": {
   "display_name": "Python 3 (ipykernel)",
   "language": "python",
   "name": "python3"
  },
  "language_info": {
   "codemirror_mode": {
    "name": "ipython",
    "version": 3
   },
   "file_extension": ".py",
   "mimetype": "text/x-python",
   "name": "python",
   "nbconvert_exporter": "python",
   "pygments_lexer": "ipython3",
   "version": "3.9.18"
  }
 },
 "nbformat": 4,
 "nbformat_minor": 5
}
